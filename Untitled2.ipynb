{
 "cells": [
  {
   "cell_type": "code",
   "execution_count": 2,
   "id": "95ec20ee",
   "metadata": {},
   "outputs": [],
   "source": [
    "W = \"Winter\""
   ]
  },
  {
   "cell_type": "code",
   "execution_count": 3,
   "id": "b818c4cc",
   "metadata": {},
   "outputs": [],
   "source": [
    "x = 1\n",
    "y = 17.23"
   ]
  },
  {
   "cell_type": "code",
   "execution_count": 4,
   "id": "d9eae780",
   "metadata": {},
   "outputs": [],
   "source": [
    " L = I = N = \"Bird\""
   ]
  },
  {
   "cell_type": "code",
   "execution_count": 1,
   "id": "b741d87c",
   "metadata": {},
   "outputs": [],
   "source": [
    "a, h = \"Blue\", \"Sky\""
   ]
  },
  {
   "cell_type": "code",
   "execution_count": null,
   "id": "59995ab6",
   "metadata": {},
   "outputs": [],
   "source": []
  }
 ],
 "metadata": {
  "kernelspec": {
   "display_name": "Python 3 (ipykernel)",
   "language": "python",
   "name": "python3"
  },
  "language_info": {
   "codemirror_mode": {
    "name": "ipython",
    "version": 3
   },
   "file_extension": ".py",
   "mimetype": "text/x-python",
   "name": "python",
   "nbconvert_exporter": "python",
   "pygments_lexer": "ipython3",
   "version": "3.11.3"
  }
 },
 "nbformat": 4,
 "nbformat_minor": 5
}
